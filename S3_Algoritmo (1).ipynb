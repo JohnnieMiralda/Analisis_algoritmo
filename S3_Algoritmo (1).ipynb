{
  "nbformat": 4,
  "nbformat_minor": 0,
  "metadata": {
    "colab": {
      "name": "S3_Algoritmo.ipynb",
      "provenance": [],
      "collapsed_sections": []
    },
    "kernelspec": {
      "name": "python3",
      "display_name": "Python 3"
    }
  },
  "cells": [
    {
      "cell_type": "code",
      "metadata": {
        "id": "pwit6V8oLI7F",
        "colab": {
          "base_uri": "https://localhost:8080/"
        },
        "outputId": "b8774c42-69b8-489b-dbfd-d5a66bca9dbb"
      },
      "source": [
        "import math as m\n",
        "\n",
        "points=[[2,6],[9,4],[3,7],[8,23],[11,5],[3,10],[9,2],[5,10]]\n",
        "\n",
        "def amount(x, y):\n",
        "    xx= (x[0]-y[0])**2\n",
        "    yy= (x[1]-y[1])**2\n",
        "    res= m.sqrt((xx+yy))\n",
        "    return res\n",
        "\n",
        "\n",
        "def min(list):\n",
        "    first= True\n",
        "    min=0\n",
        "    max=0\n",
        "    pair=[]\n",
        "    pair2=[]\n",
        "    for x in range(len(points)):\n",
        "        for y in range(x+1,len(points)):\n",
        "            n= amount(list[x],list[y])\n",
        "            if first:\n",
        "                first=False\n",
        "                pair.append(list[x])\n",
        "                pair.append(list[y])\n",
        "                pair2.append(list[x])\n",
        "                pair2.append(list[y])\n",
        "                min=n\n",
        "                max=n\n",
        "            else:\n",
        "                if n < min:\n",
        "                    pair.clear()\n",
        "                    pair.append(list[x])\n",
        "                    pair.append(list[y])\n",
        "                    min=0\n",
        "                    min=n\n",
        "                if n > max:\n",
        "                    pair2.clear()\n",
        "                    pair2.append(list[x])\n",
        "                    pair2.append(list[y])\n",
        "                    max=0\n",
        "                    max=n\n",
        "    \n",
        "    print(\"The least distance between 2 points is \",min,\" the points are \",pair)\n",
        "    print(\"The most distance between 2 points is \",max,\" the points are \",pair2)\n",
        "\n",
        "\n",
        "min(points)"
      ],
      "execution_count": null,
      "outputs": [
        {
          "output_type": "stream",
          "text": [
            "The least distance between 2 points is  1.4142135623730951  the points are  [[2, 6], [3, 7]]\n",
            "The most distance between 2 points is  21.02379604162864  the points are  [[8, 23], [9, 2]]\n"
          ],
          "name": "stdout"
        }
      ]
    }
  ]
}
{
  "nbformat": 4,
  "nbformat_minor": 0,
  "metadata": {
    "colab": {
      "name": "InsertionSort.ipynb",
      "provenance": [],
      "collapsed_sections": []
    },
    "kernelspec": {
      "name": "python3",
      "display_name": "Python 3"
    }
  },
  "cells": [
    {
      "cell_type": "markdown",
      "metadata": {
        "id": "vKZ7SvybeFU8"
      },
      "source": [
        "# 1.- Implementar InsertionSort usando Python. \n",
        "\n",
        "Graficar los tiempos de ejecución de la solución.\n",
        "\n",
        "Realizar el análisis de complejidad.\n",
        "\n",
        "Realizar un análisis cualitativo de la solución."
      ]
    },
    {
      "cell_type": "code",
      "metadata": {
        "id": "ueO7D2RePbC6"
      },
      "source": [
        "def insertionSort(arr): \n",
        "    for i in range(1, len(arr)):        #O(n)  \n",
        "        key = arr[i]                    #O(1)\n",
        "        j = i-1                         #O(1)\n",
        "        while j >=0 and key < arr[j] :  #O(n^2) \n",
        "                arr[j+1] = arr[j]       #O(1)\n",
        "                j -= 1                  #O(1)\n",
        "        arr[j+1] = key                  #O(1)\n",
        "  "
      ],
      "execution_count": null,
      "outputs": []
    },
    {
      "cell_type": "code",
      "metadata": {
        "colab": {
          "base_uri": "https://localhost:8080/",
          "height": 1000
        },
        "id": "SpjCW26JQ9Hy",
        "outputId": "81ab9f47-62c8-4383-cfaf-e00dc57fd22b"
      },
      "source": [
        "import matplotlib.pyplot as plt\n",
        "import numpy as np\n",
        "import time as t\n",
        "import random\n",
        "\n",
        "times= {}\n",
        "\n",
        "def test(x,y):\n",
        "  #random array of x values\n",
        "  ar=[]\n",
        "\n",
        "  for c in range(x):\n",
        "    ar.append(random.randint(0,500))\n",
        "  \n",
        "  start= t.time()\n",
        "  insertionSort(ar)\n",
        "  times[y]=t.time()-start\n",
        "  print(\"--- %s seconds ---\" % (times[y]))\n",
        "\n",
        "def plot(times):\n",
        "  lists = sorted(times.items())\n",
        "  x, y = zip(*lists)\n",
        "  plt.plot(x, y)\n",
        "  plt.show()\n",
        "  print(times)\n",
        "\n",
        "for i in range(50):\n",
        "  test(100,i)\n",
        "\n",
        "plot(times)\n"
      ],
      "execution_count": null,
      "outputs": [
        {
          "output_type": "stream",
          "text": [
            "--- 0.0004630088806152344 seconds ---\n",
            "--- 0.00031828880310058594 seconds ---\n",
            "--- 0.0004382133483886719 seconds ---\n",
            "--- 0.0006721019744873047 seconds ---\n",
            "--- 0.0005528926849365234 seconds ---\n",
            "--- 0.0003185272216796875 seconds ---\n",
            "--- 0.0003895759582519531 seconds ---\n",
            "--- 0.0003497600555419922 seconds ---\n",
            "--- 0.0003581047058105469 seconds ---\n",
            "--- 0.0002815723419189453 seconds ---\n",
            "--- 0.0004208087921142578 seconds ---\n",
            "--- 0.0006072521209716797 seconds ---\n",
            "--- 0.0005888938903808594 seconds ---\n",
            "--- 0.0005505084991455078 seconds ---\n",
            "--- 0.0004665851593017578 seconds ---\n",
            "--- 0.0006914138793945312 seconds ---\n",
            "--- 0.0002944469451904297 seconds ---\n",
            "--- 0.0003044605255126953 seconds ---\n",
            "--- 0.00032329559326171875 seconds ---\n",
            "--- 0.00034117698669433594 seconds ---\n",
            "--- 0.00033974647521972656 seconds ---\n",
            "--- 0.00029277801513671875 seconds ---\n",
            "--- 0.0002932548522949219 seconds ---\n",
            "--- 0.0003020763397216797 seconds ---\n",
            "--- 0.00029850006103515625 seconds ---\n",
            "--- 0.0003399848937988281 seconds ---\n",
            "--- 0.00032019615173339844 seconds ---\n",
            "--- 0.0003414154052734375 seconds ---\n",
            "--- 0.0002872943878173828 seconds ---\n",
            "--- 0.0003077983856201172 seconds ---\n",
            "--- 0.00048089027404785156 seconds ---\n",
            "--- 0.0007872581481933594 seconds ---\n",
            "--- 0.0005364418029785156 seconds ---\n",
            "--- 0.0005586147308349609 seconds ---\n",
            "--- 0.0006389617919921875 seconds ---\n",
            "--- 0.0005183219909667969 seconds ---\n",
            "--- 0.0005333423614501953 seconds ---\n",
            "--- 0.0003561973571777344 seconds ---\n",
            "--- 0.000644683837890625 seconds ---\n",
            "--- 0.0007684230804443359 seconds ---\n",
            "--- 0.0006163120269775391 seconds ---\n",
            "--- 0.00039958953857421875 seconds ---\n",
            "--- 0.00037479400634765625 seconds ---\n",
            "--- 0.00037217140197753906 seconds ---\n",
            "--- 0.0003314018249511719 seconds ---\n",
            "--- 0.0003170967102050781 seconds ---\n",
            "--- 0.0002911090850830078 seconds ---\n",
            "--- 0.0002968311309814453 seconds ---\n",
            "--- 0.0003249645233154297 seconds ---\n",
            "--- 0.0003342628479003906 seconds ---\n"
          ],
          "name": "stdout"
        },
        {
          "output_type": "display_data",
          "data": {
            "image/png": "[encoded data removed]",
            "text/plain": [
              "<Figure size 432x288 with 1 Axes>"
            ]
          },
          "metadata": {
            "tags": [],
            "needs_background": "light"
          }
        },
        {
          "output_type": "stream",
          "text": [
            "{0: 0.0004630088806152344, 1: 0.00031828880310058594, 2: 0.0004382133483886719, 3: 0.0006721019744873047, 4: 0.0005528926849365234, 5: 0.0003185272216796875, 6: 0.0003895759582519531, 7: 0.0003497600555419922, 8: 0.0003581047058105469, 9: 0.0002815723419189453, 10: 0.0004208087921142578, 11: 0.0006072521209716797, 12: 0.0005888938903808594, 13: 0.0005505084991455078, 14: 0.0004665851593017578, 15: 0.0006914138793945312, 16: 0.0002944469451904297, 17: 0.0003044605255126953, 18: 0.00032329559326171875, 19: 0.00034117698669433594, 20: 0.00033974647521972656, 21: 0.00029277801513671875, 22: 0.0002932548522949219, 23: 0.0003020763397216797, 24: 0.00029850006103515625, 25: 0.0003399848937988281, 26: 0.00032019615173339844, 27: 0.0003414154052734375, 28: 0.0002872943878173828, 29: 0.0003077983856201172, 30: 0.00048089027404785156, 31: 0.0007872581481933594, 32: 0.0005364418029785156, 33: 0.0005586147308349609, 34: 0.0006389617919921875, 35: 0.0005183219909667969, 36: 0.0005333423614501953, 37: 0.0003561973571777344, 38: 0.000644683837890625, 39: 0.0007684230804443359, 40: 0.0006163120269775391, 41: 0.00039958953857421875, 42: 0.00037479400634765625, 43: 0.00037217140197753906, 44: 0.0003314018249511719, 45: 0.0003170967102050781, 46: 0.0002911090850830078, 47: 0.0002968311309814453, 48: 0.0003249645233154297, 49: 0.0003342628479003906}\n"
          ],
          "name": "stdout"
        }
      ]
    },
    {
      "cell_type": "markdown",
      "metadata": {
        "id": "jb3-VVd-ec2P"
      },
      "source": [
        "# Analisis de Complejidad\n",
        "Como podemos apreciar en los comentarios en el codigo vemos el valor de tiempo de cada una de los statements a hacer. Y en big o notation escogemos el valo que mas afecte al crecimiento del tiempo en este caso siendo O(n^2) que se ve en el nested loop siendo este el worst case senario de nuestro algoritmo. Para el best senario se dice que el arreglo deberia ya estar arreglado asi que no se tendria que recorrer el while apra encontrar el valor mayor a el asi que se desprecia el valor del while siendo asi el segundo valor mas alto el O(n) dando asi como resultado el mejor tiempo de ejecucion del algoritmo."
      ]
    },
    {
      "cell_type": "markdown",
      "metadata": {
        "id": "eSCF7CbvtfCQ"
      },
      "source": [
        "# Analisis Cualitativo\n",
        "Como tal este algoritmo me parece muy inteligente,comparado al bubble sort que es el mas conocido y el primero que nos ensenan, el insertion sort recorta interaciones de una forma muy inteligente, a mi parecer el lugar donde mas se reducen ejecuciones es al principio por que no recorremoss todo el arreglo, mas alfinal se podria dar de forma contraria agregando mas itineraciones por buscarle el lugar al numero. En general el algoritmo me parece muy inteligente y desde que lo aprendimos me asombro la forma que atacaron el problema."
      ]
    }
  ]
}
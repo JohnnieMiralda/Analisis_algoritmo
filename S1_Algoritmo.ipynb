{
  "nbformat": 4,
  "nbformat_minor": 0,
  "metadata": {
    "colab": {
      "name": "S1_Algoritmo.ipynb",
      "provenance": [],
      "collapsed_sections": []
    },
    "kernelspec": {
      "name": "python3",
      "display_name": "Python 3"
    }
  },
  "cells": [
    {
      "cell_type": "markdown",
      "metadata": {
        "id": "bRa7u2s5-dwa"
      },
      "source": [
        "fib iterativo"
      ]
    },
    {
      "cell_type": "code",
      "metadata": {
        "id": "DusBtoQu9QSC",
        "outputId": "dd9cf275-ef4e-4cc9-8572-0b37ef065d63",
        "colab": {
          "base_uri": "https://localhost:8080/",
          "height": 108
        }
      },
      "source": [
        "def fib_it(x):\n",
        "    res=0\n",
        "    i= 0\n",
        "    while i<=x:\n",
        "        res= res+i\n",
        "        i= i+1\n",
        "        print(res)\n",
        "    # for y in range(x):\n",
        "\n",
        "    return res\n",
        "  \n",
        "fib_it(3)"
      ],
      "execution_count": 2,
      "outputs": [
        {
          "output_type": "stream",
          "text": [
            "0\n",
            "1\n",
            "3\n",
            "6\n"
          ],
          "name": "stdout"
        },
        {
          "output_type": "execute_result",
          "data": {
            "text/plain": [
              "6"
            ]
          },
          "metadata": {
            "tags": []
          },
          "execution_count": 2
        }
      ]
    },
    {
      "cell_type": "markdown",
      "metadata": {
        "id": "S2DgGQOf-Vfr"
      },
      "source": [
        "fib recursivo"
      ]
    },
    {
      "cell_type": "code",
      "metadata": {
        "id": "X289gtCa9h-T",
        "outputId": "7d51e848-6658-4d4d-b216-8347d3dff926",
        "colab": {
          "base_uri": "https://localhost:8080/",
          "height": 35
        }
      },
      "source": [
        "def fib(y):\n",
        "    if y==1:\n",
        "        return 0\n",
        "    elif y==2:\n",
        "        return 1\n",
        "    else:\n",
        "        num= (fib(y-1)+fib(y-2))\n",
        "        print(num)\n",
        "        return num\n",
        "\n",
        "fib(2)"
      ],
      "execution_count": 3,
      "outputs": [
        {
          "output_type": "execute_result",
          "data": {
            "text/plain": [
              "1"
            ]
          },
          "metadata": {
            "tags": []
          },
          "execution_count": 3
        }
      ]
    },
    {
      "cell_type": "code",
      "metadata": {
        "id": "JrosvWZj9h8I",
        "outputId": "63528d4c-5204-4f2b-f037-8f3e0065c7af",
        "colab": {
          "base_uri": "https://localhost:8080/",
          "height": 90
        }
      },
      "source": [
        "import random\n",
        "\n",
        "def generateRandomList(length):\n",
        "    newList = []\n",
        "    for i in range(0, length):\n",
        "        n = random.randint(1, 99)\n",
        "        newList.append(n);\n",
        "    return newList\n",
        "\n",
        "def bubbleSort(listLength):\n",
        "    randList = generateRandomList(listLength)\n",
        "    print(randList)\n",
        "    for listLengthIndex in range(len(randList)-1):\n",
        "        for index in range(0, listLength-listLengthIndex-1):\n",
        "            if randList[index] > randList[index+1]:\n",
        "                swap = randList[index]\n",
        "                randList[index] = randList[index+1]\n",
        "                randList[index+1] = swap\n",
        "\n",
        "    print('\\nSorted:')\n",
        "    print(randList)\n",
        "\n",
        "bubbleSort(15)"
      ],
      "execution_count": 4,
      "outputs": [
        {
          "output_type": "stream",
          "text": [
            "[55, 50, 15, 97, 65, 48, 57, 8, 65, 83, 84, 41, 92, 57, 77]\n",
            "\n",
            "Sorted:\n",
            "[8, 15, 41, 48, 50, 55, 57, 57, 65, 65, 77, 83, 84, 92, 97]\n"
          ],
          "name": "stdout"
        }
      ]
    },
    {
      "cell_type": "markdown",
      "metadata": {
        "id": "GzwT4f6T-GQ5"
      },
      "source": [
        "Bubble sort hecho por el grupo de wiliam"
      ]
    },
    {
      "cell_type": "code",
      "metadata": {
        "id": "ZiEyLIVAADgo"
      },
      "source": [
        "from random import seed\n",
        "from random import randint\n",
        "import numpy as np\n",
        "\n",
        "def bubble_sort(cant):\n",
        "    listaDesordenada = []\n",
        "    seed(1)\n",
        "    for _ in range(cant):\n",
        "      listaDesordenada = np.append(listaDesordenada, randint(0,50))\n",
        "    veces = 0\n",
        "    for i in range(len(listaDesordenada)):\n",
        "        for j in range(len(listaDesordenada) - 1):\n",
        "            veces+=1\n",
        "            if listaDesordenada[j] > listaDesordenada[j+1]:\n",
        "                listaDesordenada[j], listaDesordenada[j+1] = listaDesordenada[j+1], listaDesordenada[j]\n",
        "    print(listaDesordenada)\n",
        "    return veces\n",
        "\n",
        "ns=[10, 50, 100, 1000, 5000, 10000, 20000]\n",
        "for n in ns:\n",
        "  veces = bubble_sort(n);\n",
        "  print(n , veces)"
      ],
      "execution_count": null,
      "outputs": []
    },
    {
      "cell_type": "markdown",
      "metadata": {
        "id": "p1muU5OJ-GNw"
      },
      "source": [
        "El buble sort se cambio a insertion sort"
      ]
    },
    {
      "cell_type": "code",
      "metadata": {
        "id": "xuxiyGic98AU",
        "outputId": "ee5b3830-cfa9-4721-eed7-43ef004a6b42",
        "colab": {
          "base_uri": "https://localhost:8080/",
          "height": 72
        }
      },
      "source": [
        "from random import seed\n",
        "from random import randint\n",
        "import numpy as np\n",
        "\n",
        "def bubble_sort(cant):\n",
        "  listaDesordenada = []\n",
        "  seed(1)\n",
        "  \n",
        "  for _ in range(cant):\n",
        "    listaDesordenada = np.append(listaDesordenada, randint(0, 50))\n",
        "  \n",
        "  print(listaDesordenada)\n",
        "  \n",
        "  veces = 0\n",
        "  for i in range(len(listaDesordenada)):\n",
        "    for j in range(i, 0, -1):\n",
        "      veces += 1\n",
        "      if listaDesordenada[j] < listaDesordenada[j-1]:\n",
        "        listaDesordenada[j], listaDesordenada[j-1] = listaDesordenada[j-1], listaDesordenada[j]\n",
        "      else:\n",
        "        break\n",
        "  \n",
        "  print(listaDesordenada)\n",
        "  return veces\n",
        "\n",
        "bubble_sort(10)"
      ],
      "execution_count": 5,
      "outputs": [
        {
          "output_type": "stream",
          "text": [
            "[ 8. 36. 48.  4. 16.  7. 31. 48. 28. 30.]\n",
            "[ 4.  7.  8. 16. 28. 30. 31. 36. 48. 48.]\n"
          ],
          "name": "stdout"
        },
        {
          "output_type": "execute_result",
          "data": {
            "text/plain": [
              "27"
            ]
          },
          "metadata": {
            "tags": []
          },
          "execution_count": 5
        }
      ]
    }
  ]
}
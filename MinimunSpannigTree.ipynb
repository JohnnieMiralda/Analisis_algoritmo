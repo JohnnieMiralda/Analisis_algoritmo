{
  "nbformat": 4,
  "nbformat_minor": 0,
  "metadata": {
    "colab": {
      "name": "MinimunSpannigTree.ipynb",
      "provenance": [],
      "collapsed_sections": []
    },
    "kernelspec": {
      "name": "python3",
      "display_name": "Python 3"
    }
  },
  "cells": [
    {
      "cell_type": "markdown",
      "metadata": {
        "id": "0uSQK1-UOr3p"
      },
      "source": [
        "#Minimum Spanning Tree\n",
        "\n",
        "Realizar el análisis de complejidad.\n",
        "\n",
        "Realizar un análisis cualitativo de la solución"
      ]
    },
    {
      "cell_type": "markdown",
      "metadata": {
        "id": "6FmXtpmKi8u4"
      },
      "source": [
        "#Minimun Spanning Tree\n",
        "Dado un gráfico conectado y no dirigido, un árbol de expansión de ese gráfico es un subgráfico que es un árbol y conecta todos los vértices juntos. Un solo gráfico puede tener muchos árboles de expansión diferentes. Un árbol de expansión mínimo (MST) o un árbol de expansión de peso mínimo para un gráfico ponderado, conectado y no dirigido es un árbol de expansión con un peso menor o igual al peso de todos los demás árboles de expansión. El peso de un árbol de expansión es la suma de los pesos dados a cada borde del árbol de expansión."
      ]
    },
    {
      "cell_type": "markdown",
      "metadata": {
        "id": "kBg3YeSNkusl"
      },
      "source": [
        "#Kruskal's Algorithmo\n",
        "Para lograr este algoritmo se ultiliza los siguietes pasos:\n",
        "\n",
        "\n",
        "1.   Arreglar todas las aristas en orden no-decrementativo dependiendo de su peso\n",
        "2.   elegir la arista mas pequena. Chequiar si forma in ciclo con el arbol de expansion fromado hasta el momento. Si el ciclo no esta formado, se incluye la arista de lo contrario se desecha.\n",
        "3.   Repetir paso 2 hasta que hayan (V-1) aristas en el arbol expansivo.\n"
      ]
    },
    {
      "cell_type": "markdown",
      "metadata": {
        "id": "CAhBDS-7nDTS"
      },
      "source": [
        "#Pseudocodigo\n",
        "```\n",
        "\n",
        "algorithm Kruskal(G) is\n",
        "F:= ∅           O(1)\n",
        "for each v ∈ G.V do   O(N)\n",
        "        MAKE-SET(v)\n",
        "sort the edge of G.E into nondecreasing order by weight w     \n",
        "O(E Log E)\n",
        "for each edge(u,v) E G.E, taken in nondecreasing order by weight   \n",
        "O(E LogV)\n",
        "    if Find-set(u) != find-set(v)\n",
        "      A=A union{(u,v)}\n",
        "      UNION(u,v)\n",
        "return A\n",
        "```\n",
        "\n"
      ]
    },
    {
      "cell_type": "markdown",
      "metadata": {
        "id": "o7Zp9Fi3U5Gg"
      },
      "source": [
        "#Analisis de Complejidad\n",
        "Se sabe que ordear los edges toma O(E logE), despues de ordenar e iterar atraves de todos los edges  y aplicar la funcion de encontrar union de algoritmo. La funcion de encontrar y unir tiene un costo de tiempo de O(Log V). La complejidad total de tiempo es la suma de las dos funciones siendo O(ElogE + ElogV).Se sabe que logE y LogV son iguales asi que se puede terminar diciendo que la complejidad del algoritmo es O(ElogE) o bien pueda ser O(ELogV)"
      ]
    }
  ]
}
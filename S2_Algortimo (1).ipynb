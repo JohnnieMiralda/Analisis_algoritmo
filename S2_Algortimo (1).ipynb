{
  "nbformat": 4,
  "nbformat_minor": 0,
  "metadata": {
    "colab": {
      "name": "S2_Algortimo.ipynb",
      "provenance": [],
      "collapsed_sections": []
    },
    "kernelspec": {
      "name": "python3",
      "display_name": "Python 3"
    }
  },
  "cells": [
    {
      "cell_type": "code",
      "metadata": {
        "id": "gwWNwTeiLqpy",
        "colab": {
          "base_uri": "https://localhost:8080/"
        },
        "outputId": "227c5870-49ed-40a0-92f0-fb2820554e71"
      },
      "source": [
        "def binarySearch (arr, l, r, x): \n",
        "  \n",
        "    if r >= l: \n",
        "  \n",
        "        mid = l + (r - l) // 2\n",
        "        if arr[mid] == x: \n",
        "            return mid \n",
        "\n",
        "        elif arr[mid] > x: \n",
        "            return binarySearch(arr, l, mid-1, x) \n",
        "  \n",
        "        else: \n",
        "            return binarySearch(arr, mid + 1, r, x) \n",
        "  \n",
        "    else: \n",
        "        return -1\n",
        "  \n",
        "arr = [ 9, 14, 22, 25, 49 ] \n",
        "x = 9\n",
        "  \n",
        "result = binarySearch(arr, 0, len(arr)-1, x) \n",
        "  \n",
        "if result != -1: \n",
        "    print (\"Elemento encontrado en la posicion:  % d\" % result) \n",
        "else: \n",
        "    print (\"Elemento inexistente!\")"
      ],
      "execution_count": null,
      "outputs": [
        {
          "output_type": "stream",
          "text": [
            "Elemento encontrado en la posicion:   0\n"
          ],
          "name": "stdout"
        }
      ]
    },
    {
      "cell_type": "code",
      "metadata": {
        "id": "xx-2k8P1MYzN",
        "colab": {
          "base_uri": "https://localhost:8080/"
        },
        "outputId": "6afd6b50-292a-4873-f890-f762b02f1b9b"
      },
      "source": [
        "def mergeSort(myList):\n",
        "    if len(myList) > 1:\n",
        "        mid = len(myList) // 2\n",
        "        left = myList[:mid]\n",
        "        right = myList[mid:]\n",
        "\n",
        "        # Recursive call on each half\n",
        "        mergeSort(left)\n",
        "        mergeSort(right)\n",
        "\n",
        "        # Two iterators for traversing the two halves\n",
        "        i = 0\n",
        "        j = 0\n",
        "        \n",
        "        # Iterator for the main list\n",
        "        k = 0\n",
        "        \n",
        "        while i < len(left) and j < len(right):\n",
        "            if left[i] < right[j]:\n",
        "              # The value from the right half has been used\n",
        "              myList[k] = left[i]\n",
        "              # Move the iterator forward\n",
        "              i += 1\n",
        "            else:\n",
        "                myList[k] = right[j]\n",
        "                j += 1\n",
        "            # Move to the next slot\n",
        "            k += 1\n",
        "\n",
        "        # For all the remaining values\n",
        "        while i < len(left):\n",
        "            myList[k] = left[i]\n",
        "            i += 1\n",
        "            k += 1\n",
        "\n",
        "        while j < len(right):\n",
        "            myList[k]=right[j]\n",
        "            j += 1\n",
        "            k += 1\n",
        "\n",
        "lista=[55,22,105,215,240,55,20,70,12,15,12]\n",
        "mergeSort(lista)\n",
        "print(lista)"
      ],
      "execution_count": null,
      "outputs": [
        {
          "output_type": "stream",
          "text": [
            "[12, 12, 15, 20, 22, 55, 55, 70, 105, 215, 240]\n"
          ],
          "name": "stdout"
        }
      ]
    },
    {
      "cell_type": "code",
      "metadata": {
        "id": "UBWdJVhxNDSr",
        "colab": {
          "base_uri": "https://localhost:8080/"
        },
        "outputId": "585ecc16-2468-4d6c-bd03-7cd915360f6d"
      },
      "source": [
        "def maxCrossingSum(arr, l, m, h) : \n",
        "      \n",
        "    sm = 0; left_sum = -10000\n",
        "      \n",
        "    for i in range(m, l-1, -1) : \n",
        "        sm = sm + arr[i] \n",
        "          \n",
        "        if (sm > left_sum) : \n",
        "            left_sum = sm \n",
        "      \n",
        "    sm = 0; right_sum = -1000\n",
        "    for i in range(m + 1, h + 1) : \n",
        "        sm = sm + arr[i] \n",
        "          \n",
        "        if (sm > right_sum) : \n",
        "            right_sum = sm \n",
        "      \n",
        "    return max(left_sum + right_sum, left_sum, right_sum) \n",
        "  \n",
        "def maxSubArraySum(arr, l, h) : \n",
        "      \n",
        "    if (l == h) : \n",
        "        return arr[l] \n",
        "  \n",
        "    m = (l + h) // 2\n",
        "\n",
        "    return max(maxSubArraySum(arr, l, m), \n",
        "               maxSubArraySum(arr, m+1, h), \n",
        "               maxCrossingSum(arr, l, m, h)) \n",
        "              \n",
        "arr = [2, 3, 4, 5, 7] \n",
        "n = len(arr) \n",
        "  \n",
        "max_sum = maxSubArraySum(arr, 0, n-1) \n",
        "print(\"Punto maximo \", max_sum)"
      ],
      "execution_count": null,
      "outputs": [
        {
          "output_type": "stream",
          "text": [
            "Punto maximo  21\n"
          ],
          "name": "stdout"
        }
      ]
    }
  ]
}
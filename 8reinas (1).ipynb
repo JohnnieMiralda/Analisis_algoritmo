{
  "nbformat": 4,
  "nbformat_minor": 0,
  "metadata": {
    "colab": {
      "name": "8reinas.ipynb",
      "provenance": [],
      "collapsed_sections": []
    },
    "kernelspec": {
      "name": "python3",
      "display_name": "Python 3"
    }
  },
  "cells": [
    {
      "cell_type": "code",
      "metadata": {
        "colab": {
          "base_uri": "https://localhost:8080/"
        },
        "id": "kZ6k4OJtXtcY",
        "outputId": "04a158fe-7bfd-426e-edad-6ed933e3d5f5"
      },
      "source": [
        "import matplotlib.pyplot as plt\n",
        "import numpy as np\n",
        "import time as t\n",
        "\n",
        "def isValid(chess,cell):\n",
        "  row= cell // n\n",
        "  col= cell % n\n",
        "\n",
        "  cuadrant_row = (row // sqrt_n) * sqrt_n\n",
        "  cuadrant_col = (col // sqrt_n) * sqrt_n\n",
        "\n",
        "  #check row\n",
        "  for i in range(n):\n",
        "    if (i != col) and (chess[row][i]== 1):\n",
        "      return False\n",
        "  #check column\n",
        "  for i in range(n):\n",
        "    if (i != row) and (chess[i][col]== 1):\n",
        "      return False\n",
        "  #check diagonal\n",
        "  if check_diagonals(chess,row,col)==True and check_diagonals2(chess,row,col)==True:\n",
        "    return True \n",
        "  else:\n",
        "    return False\n",
        "\n",
        "def check_diagonals(chess,row,column):\n",
        "  for c in range(column,n):\n",
        "    if c+row >= n:\n",
        "      break\n",
        "    if chess[c+row][c]==1:\n",
        "      return False\n",
        "\n",
        "  for c in range(column,-1,-1):\n",
        "    if row-c < 0:\n",
        "      break\n",
        "    if chess[row-c][c]==1:\n",
        "      return False\n",
        "  return True\n",
        "\n",
        "def check_diagonals2(chess,row,column):\n",
        "  for c in range(column,n):\n",
        "    if c+row >= n:\n",
        "      break\n",
        "    if chess[c][c+row]==1:\n",
        "      return False\n",
        "\n",
        "  for c in range(column,-1,-1):\n",
        "    if row-c < 0:\n",
        "      break\n",
        "    if chess[c][row-c]==1:\n",
        "      return False\n",
        "  return True\n",
        "\n",
        "    \n",
        "def chess_solver(chess,cell,count):\n",
        "  row= cell // n\n",
        "  col= cell % n\n",
        "\n",
        "  if count == 8:\n",
        "    return True\n",
        "  if cell >= n**2:\n",
        "    return False \n",
        "\n",
        "  if isValid(chess,cell):\n",
        "      chess[row][col]=1\n",
        "      if chess_solver(chess,cell+1,count+1):\n",
        "        return True\n",
        "      else:\n",
        "        chess[row][col]=0\n",
        "\n",
        "  return chess_solver(chess,cell+1,count)\n",
        "   \n",
        "\n",
        "\n",
        "n=8\n",
        "sqrt_n= int(n**0.5)\n",
        "chess= [[0 for col in range(n)]for row in range(n)]\n",
        "chess_solver(chess,0,0)\n",
        "print(np.matrix(chess))\n"
      ],
      "execution_count": null,
      "outputs": [
        {
          "output_type": "stream",
          "text": [
            "[[1 0 0 0 0 0 0 0]\n",
            " [0 1 0 0 0 0 0 0]\n",
            " [0 0 0 1 0 0 0 0]\n",
            " [0 0 1 0 0 0 0 0]\n",
            " [0 0 0 0 1 0 0 0]\n",
            " [0 0 0 0 0 0 1 0]\n",
            " [0 0 0 0 0 1 0 0]\n",
            " [0 0 0 0 0 0 0 1]]\n"
          ],
          "name": "stdout"
        }
      ]
    }
  ]
}